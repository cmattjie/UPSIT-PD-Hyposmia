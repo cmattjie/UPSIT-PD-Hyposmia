{
 "cells": [
  {
   "cell_type": "code",
   "execution_count": null,
   "metadata": {},
   "outputs": [],
   "source": [
    "import pandas as pd\n",
    "import numpy as np\n"
   ]
  },
  {
   "cell_type": "markdown",
   "metadata": {},
   "source": [
    "PPMI_CLINICAL"
   ]
  },
  {
   "cell_type": "code",
   "execution_count": null,
   "metadata": {},
   "outputs": [],
   "source": [
    "#data should be downloaded from https://www.ppmi-info.org/ and saved in PPMI_clinical and PPMI_remote folders accordingly\n",
    "#dates on file paths should be adapted accordingly\n",
    "\n",
    "#load all data\n",
    "age = pd.read_csv(\"data/PPMI_clinical/Age_at_visit_24May2024.csv\")\n",
    "demographics = pd.read_csv(\"data/PPMI_clinical/Demographics_10Jun2024.csv\")\n",
    "pat_status = pd.read_csv(\"data/PPMI_clinical/Participant_Status_24May2024.csv\")\n",
    "socio_eco = pd.read_csv(\"data/PPMI_clinical/Socio-Economics_24May2024.csv\")\n",
    "upsit = pd.read_csv(\"data/PPMI_clinical/University_of_Pennsylvania_Smell_Identification_Test_UPSIT_24May2024.csv\")"
   ]
  },
  {
   "cell_type": "code",
   "execution_count": null,
   "metadata": {},
   "outputs": [],
   "source": [
    "#check for columns that are in all dataframes\n",
    "intersect = set(age.columns)\n",
    "for df in [demographics, pat_status, socio_eco, upsit]:\n",
    "    intersect = intersect.intersection(set(df.columns))\n",
    "print(intersect)\n"
   ]
  },
  {
   "cell_type": "code",
   "execution_count": null,
   "metadata": {},
   "outputs": [],
   "source": [
    "#print columns for each dataframe\n",
    "print(\"Age\")\n",
    "print(age.columns)\n",
    "print(\"Demographics\")\n",
    "print(demographics.columns)\n",
    "print(\"Participant Status\")\n",
    "print(pat_status.columns) \n",
    "print(\"Socio-Economics\") \n",
    "print(socio_eco.columns)\n",
    "print(\"UPSIT\")\n",
    "print(upsit.columns)\n",
    "\n"
   ]
  },
  {
   "cell_type": "code",
   "execution_count": null,
   "metadata": {},
   "outputs": [],
   "source": [
    "# List of dataframes\n",
    "dfs = [age, demographics, socio_eco, upsit]\n",
    "\n",
    "# Merge all dataframes bases on PATNO and EVENT_ID\n",
    "merged_df = dfs[0]\n",
    "for df in dfs[1:]:\n",
    "    merged_df = merged_df.merge(df, on=['PATNO', 'EVENT_ID'], how='outer')\n"
   ]
  },
  {
   "cell_type": "code",
   "execution_count": null,
   "metadata": {},
   "outputs": [],
   "source": [
    "#merge with participant status (this dataframe has no EVENT_ID)\n",
    "merged_df = merged_df.merge(pat_status, on=['PATNO'], how='outer', suffixes=('', '_y'))\n",
    "\n",
    "merged_df.drop(merged_df.filter(regex='_y$').columns, axis=1, inplace=True)"
   ]
  },
  {
   "cell_type": "code",
   "execution_count": null,
   "metadata": {},
   "outputs": [],
   "source": [
    "#save merged dataframe\n",
    "merged_df.to_csv(\"data/merged_ppmi_clinical.csv\", index=False)\n"
   ]
  },
  {
   "cell_type": "markdown",
   "metadata": {},
   "source": [
    "PPMI_remote"
   ]
  },
  {
   "cell_type": "code",
   "execution_count": null,
   "metadata": {},
   "outputs": [],
   "source": [
    "high_int = pd.read_csv(\"data/PPMI_remote/Remote_Screening_High_Interest_24May2024.csv\")\n",
    "pat_prog = pd.read_csv(\"data/PPMI_remote/Remote_Screening_Participant_Progress_24May2024.csv\")\n",
    "screen = pd.read_csv(\"data/PPMI_remote/Remote_Screening_Screener_24May2024.csv\")\n",
    "smell = pd.read_csv(\"data/PPMI_remote/Remote_Screening_Smell_Test_Direct_Screener_24May2024.csv\", low_memory=False)\n",
    "upsit_screen = pd.read_csv(\"data/PPMI_remote/Remote_Screening_UPSIT_Screening_24May2024.csv\")\n",
    "upsit = pd.read_csv(\"data/PPMI_remote/Remote_University_of_Pennsylvania_Smell_Identification_Test_24May2024.csv\")\n"
   ]
  },
  {
   "cell_type": "code",
   "execution_count": null,
   "metadata": {},
   "outputs": [],
   "source": [
    "#rename upsit ORIG_ENTRY to UPSIT_ORIG_ENTRY as this one will be used to get age\n",
    "upsit = upsit.rename(columns={\"ORIG_ENTRY\": \"UPSIT_ORIG_ENTRY\"})\n",
    "\n",
    "#print columns\n",
    "print(\"High Interest\")\n",
    "print(high_int.columns)\n",
    "print(\"Participant Progress\")\n",
    "print(pat_prog.columns)\n",
    "print(\"Screen\")\n",
    "print(screen.columns)\n",
    "print(\"Smell Test\")\n",
    "print(smell.columns)\n",
    "print(\"UPSIT Screening\")\n",
    "print(upsit_screen.columns)\n",
    "print(\"UPSIT\")\n",
    "print(upsit.columns)"
   ]
  },
  {
   "cell_type": "code",
   "execution_count": null,
   "metadata": {},
   "outputs": [],
   "source": [
    "#merge all remote screening data\n",
    "remote_dfs = [high_int, pat_prog, screen, smell, upsit_screen, upsit]\n",
    "remote_merged_df = remote_dfs[0]\n",
    "for df in remote_dfs[1:]:\n",
    "    remote_merged_df = remote_merged_df.merge(df, on=['PATNO', 'EVENT_ID'], how='outer', suffixes=('', '_y'))\n",
    "\n",
    "remote_merged_df.drop(remote_merged_df.filter(regex='_y$').columns, axis=1, inplace=True)\n",
    "\n",
    "print(remote_merged_df.shape)"
   ]
  },
  {
   "cell_type": "code",
   "execution_count": null,
   "metadata": {},
   "outputs": [],
   "source": [
    "#save df\n",
    "remote_merged_df.to_csv(\"data/merged_ppmi_remote.csv\", index=False)"
   ]
  },
  {
   "cell_type": "code",
   "execution_count": null,
   "metadata": {},
   "outputs": [],
   "source": [
    "# #save columns in txt\n",
    "# with open(\"merged_ppmi_remote_columns.txt\", \"w\") as f:\n",
    "#     for col in remote_merged_df.columns:\n",
    "#         f.write(col + \"\\n\")\n",
    "        \n",
    "# with open(\"merged_ppmi_clinical_columns.txt\", \"w\") as f:\n",
    "#     for col in merged_df.columns:\n",
    "#         f.write(col + \"\\n\")"
   ]
  },
  {
   "cell_type": "markdown",
   "metadata": {},
   "source": [
    "adding year of birth and age in years"
   ]
  },
  {
   "cell_type": "code",
   "execution_count": null,
   "metadata": {},
   "outputs": [],
   "source": [
    "import pandas as pd"
   ]
  },
  {
   "cell_type": "code",
   "execution_count": null,
   "metadata": {},
   "outputs": [],
   "source": [
    "remote = pd.read_csv(\"data/merged_ppmi_remote.csv\", low_memory=False)\n",
    "year = pd.read_csv(\"data/PPMI_remote/Remote_Screening_BirthYear.csv\")\n",
    "\n",
    "#get birth year and PATNO only\n",
    "year = year[[\"PATNO\", \"BIRTHDT\"]]\n",
    "\n",
    "#print unique values of birth year\n",
    "print(year[\"BIRTHDT\"].unique())\n"
   ]
  },
  {
   "cell_type": "code",
   "execution_count": null,
   "metadata": {},
   "outputs": [],
   "source": [
    "#merge with remote data\n",
    "print(remote.shape)\n",
    "remote = remote.merge(year, on=[\"PATNO\"], how=\"inner\")\n",
    "\n",
    "print(remote.shape)\n"
   ]
  },
  {
   "cell_type": "code",
   "execution_count": null,
   "metadata": {},
   "outputs": [],
   "source": [
    "#get year from UPSIT_ORIG_ENTRY\n",
    "remote[\"UPSIT_ORIG_ENTRY\"] = pd.to_datetime(remote[\"UPSIT_ORIG_ENTRY\"])\n",
    "remote[\"YEAR\"] = remote[\"UPSIT_ORIG_ENTRY\"].dt.year\n",
    "print(remote[\"YEAR\"].unique())\n",
    "\n",
    "#AGE as YEAR - BIRTHDT\n",
    "remote[\"AGE\"] = remote[\"YEAR\"] - remote[\"BIRTHDT\"]\n",
    "print(remote[\"AGE\"].unique())"
   ]
  },
  {
   "cell_type": "code",
   "execution_count": null,
   "metadata": {},
   "outputs": [],
   "source": [
    "#save remote\n",
    "print(remote.shape)\n",
    "remote.to_csv(\"data/merged_ppmi_remote.csv\", index=False)"
   ]
  },
  {
   "cell_type": "markdown",
   "metadata": {},
   "source": [
    "PART 2 - Computing Hyposmia Score"
   ]
  },
  {
   "cell_type": "code",
   "execution_count": null,
   "metadata": {},
   "outputs": [],
   "source": [
    "import pandas as pd\n",
    "import numpy as np"
   ]
  },
  {
   "cell_type": "code",
   "execution_count": null,
   "metadata": {},
   "outputs": [],
   "source": [
    "#load both dataframes\n",
    "remote = pd.read_csv(\"data/merged_ppmi_remote.csv\", low_memory=False)\n",
    "clinical = pd.read_csv(\"data/merged_ppmi_clinical.csv\", low_memory=False)\n",
    "\n",
    "#print shapes\n",
    "print(remote.shape)\n",
    "print(clinical.shape)\n",
    "\n"
   ]
  },
  {
   "cell_type": "code",
   "execution_count": null,
   "metadata": {},
   "outputs": [],
   "source": [
    "def compute_hyposmia_ppmi(df):\n",
    "    #Compute Hyposmia according to PPMI old cutoff values\n",
    "    df['HYPOSMIA_PPMI'] = np.nan\n",
    "    df[\"BIRTHSEX\"] = df[\"BIRTHSEX\"].astype(float)\n",
    "    for index, row in df.iterrows():\n",
    "        if row['BIRTHSEX'] == 1.0:  # 1: Male\n",
    "            if row['TOTAL_CORRECT'] <= 33:\n",
    "                df.at[index, \"HYPOSMIA_PPMI\"] = 1\n",
    "            else:\n",
    "                df.at[index, \"HYPOSMIA_PPMI\"] = 0\n",
    "        elif row['BIRTHSEX'] == 0.0: # 0: Female\n",
    "            if row['TOTAL_CORRECT'] <= 34:\n",
    "                df.at[index, \"HYPOSMIA_PPMI\"] = 1\n",
    "            else:\n",
    "                df.at[index, \"HYPOSMIA_PPMI\"] = 0\n",
    "    return df\n",
    "\n",
    "def compute_hyposmia(df):\n",
    "    #Compute Hyposmia according to AGE and UPSIT total score (from https://doi.org/10.1212/wnl.0000000000207077)\n",
    "    df[\"HYPOSMIA\"] = np.nan\n",
    "\n",
    "    df[\"AGE\"] = df[\"AGE\"].astype(float)\n",
    "    df[\"BIRTHSEX\"] = df[\"BIRTHSEX\"].astype(float)\n",
    "    df[\"TOTAL_CORRECT\"] = df[\"TOTAL_CORRECT\"].astype(float)\n",
    "    for index, row in df.iterrows():\n",
    "        if row[\"AGE\"] < 60.0:\n",
    "            print(f\"Age is less than 60: {row['PATNO']}\")\n",
    "        if row[\"BIRTHSEX\"] == 0.0:\n",
    "            if row[\"AGE\"] >= 60 and row[\"AGE\"] <= 64 and row[\"TOTAL_CORRECT\"] <= 30:\n",
    "                df.at[index, \"HYPOSMIA\"] = 1\n",
    "            elif row[\"AGE\"] >= 65 and row[\"AGE\"] <= 69 and row[\"TOTAL_CORRECT\"] <= 28:\n",
    "                df.at[index, \"HYPOSMIA\"] = 1\n",
    "            elif row[\"AGE\"] >= 70 and row[\"AGE\"] <= 74 and row[\"TOTAL_CORRECT\"] <= 26:\n",
    "                df.at[index, \"HYPOSMIA\"] = 1\n",
    "            elif row[\"AGE\"] >= 75 and row[\"AGE\"] <= 79 and row[\"TOTAL_CORRECT\"] <= 24:\n",
    "                df.at[index, \"HYPOSMIA\"] = 1\n",
    "            elif row[\"AGE\"] >= 80 and row[\"TOTAL_CORRECT\"] <= 22:\n",
    "                df.at[index, \"HYPOSMIA\"] = 1\n",
    "            else:\n",
    "                #no HYPOSMIA\n",
    "                df.at[index, \"HYPOSMIA\"] = 0\n",
    "                    \n",
    "        elif row[\"BIRTHSEX\"] == 1.0:\n",
    "            if row[\"AGE\"] >= 60 and row[\"AGE\"] <= 64 and row[\"TOTAL_CORRECT\"] <= 26:\n",
    "                df.at[index, \"HYPOSMIA\"] = 1\n",
    "            elif row[\"AGE\"] >= 65 and row[\"AGE\"] <= 69 and row[\"TOTAL_CORRECT\"] <= 24:\n",
    "                df.at[index, \"HYPOSMIA\"] = 1\n",
    "            elif row[\"AGE\"] >= 70 and row[\"AGE\"] <= 74 and row[\"TOTAL_CORRECT\"] <= 23:\n",
    "                df.at[index, \"HYPOSMIA\"] = 1\n",
    "            elif row[\"AGE\"] >= 75 and row[\"AGE\"] <= 79 and row[\"TOTAL_CORRECT\"] <= 21:\n",
    "                df.at[index, \"HYPOSMIA\"] = 1\n",
    "            elif row[\"AGE\"] >= 80 and row[\"TOTAL_CORRECT\"] <= 18:\n",
    "                df.at[index, \"HYPOSMIA\"] = 1     \n",
    "            else:\n",
    "                #no HYPOSMIA\n",
    "                df.at[index, \"HYPOSMIA\"] = 0\n",
    "    return df"
   ]
  },
  {
   "cell_type": "code",
   "execution_count": null,
   "metadata": {},
   "outputs": [],
   "source": [
    "#print unique values for sex\n",
    "print(clinical[\"SEX\"].value_counts())"
   ]
  },
  {
   "cell_type": "code",
   "execution_count": null,
   "metadata": {},
   "outputs": [],
   "source": [
    "#find columns with sufixes\n",
    "remote_cols = remote.columns\n",
    "clinical_cols = clinical.columns\n",
    "remote_suf = set()\n",
    "clinical_suf = set()\n",
    "for col in remote_cols:\n",
    "    if col.endswith(\"_x\"):\n",
    "        remote_suf.add(col)\n",
    "for col in clinical_cols:\n",
    "    if col.endswith(\"_x\"):\n",
    "        clinical_suf.add(col)\n",
    "print(remote_suf)\n",
    "print(clinical_suf)\n",
    "#drop columns with suffixes\n",
    "remote.drop(remote.filter(regex='_x$').columns, axis=1, inplace=True)"
   ]
  },
  {
   "cell_type": "markdown",
   "metadata": {},
   "source": [
    "CLINICAL"
   ]
  },
  {
   "cell_type": "code",
   "execution_count": null,
   "metadata": {},
   "outputs": [],
   "source": [
    "from tqdm import tqdm\n",
    "\n",
    "#for each PATNO, create a new row with EVENT_ID = BLSC\n",
    "#sort values by PATNO and EVENT_ID \n",
    "clinical = clinical.sort_values(by=[\"PATNO\", \"EVENT_ID\"])\n",
    "#get list of unique PATNOs\n",
    "patnos = clinical[\"PATNO\"].unique()\n",
    "print(len(patnos))\n",
    "\n",
    "#for each PATNO, create a new row with EVENT_ID = BLSC\n",
    "new_rows = []\n",
    "for patno in tqdm(patnos):\n",
    "    #get all rows for this patno\n",
    "    patno_rows = clinical[clinical[\"PATNO\"] == patno]\n",
    "    #check if there is a BL row\n",
    "    bl_rows = patno_rows[patno_rows[\"EVENT_ID\"] == \"BL\"]\n",
    "    #check if there is a SC row\n",
    "    sc_rows = patno_rows[patno_rows[\"EVENT_ID\"] == \"SC\"]\n",
    "    #check if there is a TRANS row\n",
    "    trans_rows = patno_rows[patno_rows[\"EVENT_ID\"] == \"TRANS\"]\n",
    "    \n",
    "    #if there is a BL row or a SC row, create a new row with EVENT_ID = BLSC\n",
    "    if bl_rows.shape[0] > 0:\n",
    "        bl_row = bl_rows.iloc[0]\n",
    "        #check if age is null\n",
    "        \n",
    "        if sc_rows.shape[0] > 0:\n",
    "            sc_row = sc_rows.iloc[0]\n",
    "            new_row = bl_row.copy()\n",
    "            new_row[\"EVENT_ID\"] = \"BLSC\"\n",
    "            #for each missing value in bl_row, fill with sc_row\n",
    "            for col in clinical.columns:\n",
    "                if pd.isnull(new_row[col]):\n",
    "                    new_row[col] = sc_row[col]\n",
    "        else:\n",
    "            new_row = bl_row.copy()\n",
    "            new_row[\"EVENT_ID\"] = \"BLSC\"\n",
    "    else:\n",
    "        if sc_rows.shape[0] > 0:\n",
    "            sc_row = sc_rows.iloc[0]\n",
    "            new_row = sc_row.copy()\n",
    "            new_row[\"EVENT_ID\"] = \"BLSC\"\n",
    "        else:\n",
    "            continue\n",
    "    \n",
    "    if len(new_row) > 0:\n",
    "        #check if BIRTHSEX has a value\n",
    "        if pd.isnull(new_row[\"SEX\"]):\n",
    "            #get it from any other row from that patno THAT HAS DATA\n",
    "            if trans_rows.shape[0] > 0:\n",
    "                new_row[\"SEX\"] = trans_rows[\"SEX\"].iloc[0]\n",
    "    new_rows.append(new_row)\n",
    "    \n",
    "print(len(new_rows))\n",
    "\n",
    "#transform it into a df\n",
    "clinical_new = pd.DataFrame(new_rows)\n",
    "print(clinical_new.shape)"
   ]
  },
  {
   "cell_type": "code",
   "execution_count": null,
   "metadata": {},
   "outputs": [],
   "source": [
    "#NEW_CODE\n",
    "clinical = clinical_new\n",
    "#keep only rows where concohort is 1, if missing cohort shold be 1\n",
    "print(clinical.shape)\n",
    "\n",
    "#print unique values of EVENT_ID\n",
    "print(clinical[\"EVENT_ID\"].value_counts())\n",
    "print(\"cohort and concohort\")\n",
    "\n",
    "clinical = clinical.loc[(clinical['CONCOHORT'] == 1) | ((clinical['CONCOHORT'].isna()) & (clinical['COHORT'] == 1))]\n",
    "\n",
    "print(clinical.shape)\n",
    "print(\"removed screen failed\")\n",
    "#remove screen failures\n",
    "clinical = clinical[clinical[\"ENROLL_STATUS\"] != \"Screen failed\"]\n",
    "\n",
    "#filter for AGE_AT_VISIT at least 60\n",
    "print(clinical.shape)\n",
    "print(\"AGE\")\n",
    "clinical = clinical[clinical[\"AGE_AT_VISIT\"] >= 60]\n",
    "print(clinical.shape)\n",
    "print(\"UPSITFORM\")\n",
    "clinical = clinical[clinical[\"UPSITFORM\"] == 2.0]\n",
    "print(clinical.shape)\n",
    "\n",
    "clinical = clinical.rename(columns={\"AGE_AT_VISIT\": \"AGE\", \"SEX\": \"BIRTHSEX\"})\n",
    "\n",
    "#get all columns that end with _CORRECT in clinical\n",
    "clinical_cols = [col for col in clinical.columns if col.endswith(\"_CORRECT\")]\n",
    "#drop TOTAL_CORRECT columns\n",
    "clinical_cols.remove(\"TOTAL_CORRECT\")\n",
    "\n",
    "#drop patients with missing data at clinical_cols\n",
    "print(clinical.shape)\n",
    "\n",
    "missing_dict= {}\n",
    "#check how much missing data we have for each patients\n",
    "for patno in clinical[\"PATNO\"].unique():\n",
    "    patno_rows = clinical[clinical[\"PATNO\"] == patno]\n",
    "    missing = patno_rows[clinical_cols].isnull().sum().sum()\n",
    "    missing_dict[patno] = missing\n",
    "        \n",
    "#print how many patients we have with each number of missing values\n",
    "from collections import Counter\n",
    "missing_counter = Counter(missing_dict.values())\n",
    "\n"
   ]
  },
  {
   "cell_type": "code",
   "execution_count": null,
   "metadata": {},
   "outputs": [],
   "source": [
    "clinical_orig = clinical.copy()"
   ]
  },
  {
   "cell_type": "code",
   "execution_count": null,
   "metadata": {},
   "outputs": [],
   "source": [
    "#keep only patients that have less than 3 missing values (5%)\n",
    "print(clinical.shape)\n",
    "print(\"missing values\")\n",
    "clinical = clinical[clinical[\"PATNO\"].map(missing_dict) < 3]\n",
    "print(clinical.shape)\n"
   ]
  },
  {
   "cell_type": "code",
   "execution_count": null,
   "metadata": {},
   "outputs": [],
   "source": [
    "#imput data for missing values with KNN\n",
    "print(clinical.shape)\n",
    "print(\"imput missing values\")\n",
    "from sklearn.impute import KNNImputer\n",
    "imputer = KNNImputer(n_neighbors=4)\n",
    "clinical[clinical_cols] = imputer.fit_transform(clinical[clinical_cols])"
   ]
  },
  {
   "cell_type": "code",
   "execution_count": null,
   "metadata": {},
   "outputs": [],
   "source": [
    "\n",
    "#overwrite column that is the sum of all columns in clinical\n",
    "clinical[\"TOTAL_CORRECT\"] = clinical[clinical_cols].sum(axis=1)\n",
    "\n",
    "#if it has missing data in any of clinical_cols, drop row\n",
    "\n",
    "#print(\"removing missing data from any column of UPSIT\")\n",
    "clinical = clinical.dropna(subset=clinical_cols, how='any')\n",
    "\n",
    "print(clinical.shape)\n",
    "clinical=compute_hyposmia(clinical)\n",
    "clinical=compute_hyposmia_ppmi(clinical)\n",
    "print(clinical.shape)\n",
    "\n",
    "print(clinical[\"HYPOSMIA\"].value_counts(dropna=False))\n",
    "print(clinical[\"HYPOSMIA_PPMI\"].value_counts(dropna=False))\n",
    "\n",
    "#repeat for clinical_orig\n",
    "\n",
    "clinical_orig[\"TOTAL_CORRECT\"] = clinical_orig[clinical_cols].sum(axis=1)\n",
    "clinical_orig = clinical_orig.dropna(subset=clinical_cols, how='any')\n",
    "clinical_orig=compute_hyposmia(clinical_orig)\n",
    "clinical_orig=compute_hyposmia_ppmi(clinical_orig)\n",
    "print(clinical_orig.shape)\n",
    " \n"
   ]
  },
  {
   "cell_type": "code",
   "execution_count": null,
   "metadata": {},
   "outputs": [],
   "source": [
    "#check counts of HYPOSMIA\n",
    "print(clinical[\"HYPOSMIA\"].value_counts(dropna=False))\n",
    "print(clinical[\"HYPOSMIA_PPMI\"].value_counts(dropna=False))\n",
    "#check counts of TOTAL_CORRECT\n",
    "#print(clinical[\"TOTAL_CORRECT\"].value_counts(dropna=False))\n",
    "#check counts of AGE\n",
    "#age_count =clinical[\"AGE\"].value_counts(dropna=False)\n",
    "#check counts of BIRTHSEX\n",
    "print(clinical[\"BIRTHSEX\"].value_counts(dropna=False))\n"
   ]
  },
  {
   "cell_type": "code",
   "execution_count": null,
   "metadata": {},
   "outputs": [],
   "source": [
    "#if it dos not exist, create processed folder\n",
    "import os\n",
    "if not os.path.exists(\"data/processed\"):\n",
    "    os.makedirs(\"data/processed\")\n",
    "\n",
    "#save new_df\n",
    "clinical.to_csv(\"data/processed/clinical_processed_imputed.csv\", index=False)\n",
    "clinical_orig.to_csv(\"data/processed/clinical_processed.csv\", index=False)"
   ]
  },
  {
   "cell_type": "markdown",
   "metadata": {},
   "source": [
    "REMOTE"
   ]
  },
  {
   "cell_type": "code",
   "execution_count": null,
   "metadata": {},
   "outputs": [],
   "source": [
    "remotecopy=remote.copy()"
   ]
  },
  {
   "cell_type": "code",
   "execution_count": null,
   "metadata": {},
   "outputs": [],
   "source": [
    "\n",
    "remote = remotecopy#for remote: HIQ1 =0; HIQ2 =0; HIQ4 =0 (or 1 if not enough); checar hyposmia\n",
    "remote_cols = [col for col in remote.columns if col.endswith(\"_CORRECT\")]\n",
    "remote_cols.remove(\"TOTAL_CORRECT\")\n",
    "print(remote_cols)\n",
    "print(len(remote_cols))\n",
    " \n",
    "remote[\"TOTAL_CORRECT\"] = remote[remote_cols].sum(axis=1)\n",
    "print(remote.shape)\n",
    "print(\"AGE\")\n",
    "remote = remote[remote[\"AGE\"] >= 60]\n",
    "\n",
    "print(remote.shape)\n",
    "print(\"HIQ1\")\n",
    "remote = remote[remote[\"HIQ1\"] == 0]\n",
    "print(remote.shape)\n",
    "print(\"HIQ2\")\n",
    "remote = remote[remote[\"HIQ2\"] == 0]\n",
    "print(remote.shape)\n",
    "print(\"HIQ4\")\n",
    "remote = remote[remote[\"HIQ4\"] == 0]\n",
    "#filter for age at least 60\n",
    "\n",
    "\n",
    "\n",
    "print(remote.shape)\n",
    "print(\"removing missing data from any column of UPSIT\")\n",
    "remote = remote.dropna(subset=remote_cols, how='any')\n",
    "print(remote.shape)"
   ]
  },
  {
   "cell_type": "code",
   "execution_count": null,
   "metadata": {},
   "outputs": [],
   "source": [
    "remote = compute_hyposmia(remote)\n",
    "remote = compute_hyposmia_ppmi(remote)\n",
    "print(remote.shape)"
   ]
  },
  {
   "cell_type": "code",
   "execution_count": null,
   "metadata": {},
   "outputs": [],
   "source": [
    "print(remote[\"HYPOSMIA\"].value_counts(dropna=False))\n",
    "print(remote[\"HYPOSMIA_PPMI\"].value_counts(dropna=False))"
   ]
  },
  {
   "cell_type": "code",
   "execution_count": null,
   "metadata": {},
   "outputs": [],
   "source": [
    "\n",
    "\n",
    "#save remote\n",
    "remote.to_csv(\"data/processed/remote_processed.csv\", index=False)"
   ]
  },
  {
   "cell_type": "markdown",
   "metadata": {},
   "source": [
    "HYPOSMIA"
   ]
  },
  {
   "cell_type": "code",
   "execution_count": null,
   "metadata": {},
   "outputs": [],
   "source": [
    "# for Female participants, hyposmia definition according to AGE and UPSIT total score\n",
    "Fem_Hyposmia_cutoff ={\n",
    "    50-54: 32,\n",
    "    55-59: 32,\n",
    "    60-64: 30,\n",
    "    65-69: 28,\n",
    "    70-74: 26,\n",
    "    75-79: 24,\n",
    "    80: 22\n",
    "}\n",
    "\n",
    "Mal_Hyposmia_cutoff ={\n",
    "    50-54: 30,\n",
    "    55-59: 28,\n",
    "    60-64: 26,\n",
    "    65-69: 24,\n",
    "    70-74: 23,\n",
    "    75-79: 21,\n",
    "    80: 18\n",
    "}"
   ]
  },
  {
   "cell_type": "markdown",
   "metadata": {},
   "source": [
    "GETTING DURATION OF DISEASE AT TIME OF UPSIT"
   ]
  },
  {
   "cell_type": "code",
   "execution_count": null,
   "metadata": {},
   "outputs": [],
   "source": [
    "import pandas as pd"
   ]
  },
  {
   "cell_type": "code",
   "execution_count": null,
   "metadata": {},
   "outputs": [],
   "source": [
    "#read upsit\n",
    "upsit = pd.read_csv(\"data/PPMI_clinical/University_of_Pennsylvania_Smell_Identification_Test_UPSIT_24May2024.csv\")\n",
    "diag_hist = pd.read_csv('data/PPMI_clinical/PD_Diagnosis_History_11Jun2024.csv')"
   ]
  },
  {
   "cell_type": "code",
   "execution_count": null,
   "metadata": {},
   "outputs": [],
   "source": [
    "#get date for each of them. upsit Orig_entry is the date of the test\n",
    "upsit[\"ORIG_ENTRY\"] = pd.to_datetime(upsit[\"ORIG_ENTRY\"])\n",
    "print(upsit[\"ORIG_ENTRY\"])\n",
    "#diag_hist has the PDDXDT in the following format: mon-yy\n",
    "diag_hist[\"PDDXDT\"] = pd.to_datetime(diag_hist[\"PDDXDT\"], format=\"%b-%y\")\n",
    "print(diag_hist[\"PDDXDT\"])\n",
    "#merge both dataframes\n",
    "merged = upsit.merge(diag_hist, on=[\"PATNO\"], how=\"inner\", suffixes=('', '_y'))\n",
    "print(merged.shape)\n",
    "print(merged.columns)\n",
    "print(merged[\"PDDXDT\"])\n",
    "print(merged[\"ORIG_ENTRY\"])\n",
    "#now compute disease duration at date of the test\n",
    "merged[\"PD_Duration\"] = (merged[\"ORIG_ENTRY\"] - merged[\"PDDXDT\"]).dt.days\n",
    "print(merged[\"PD_Duration\"]/365)"
   ]
  },
  {
   "cell_type": "code",
   "execution_count": null,
   "metadata": {},
   "outputs": [],
   "source": [
    "#load clinical\n",
    "clinical = pd.read_csv(\"data/processed/clinical_processed_imputed.csv\")\n",
    "clinical_orig = pd.read_csv(\"data/processed/clinical_processed.csv\")\n",
    "print(clinical.shape)\n",
    "\n",
    "#now include PD_Duration in clinical\n",
    "clinical = clinical.merge(merged[[\"PATNO\", \"PD_Duration\"]], on=[\"PATNO\"], how=\"left\")\n",
    "clinical_orig = clinical_orig.merge(merged[[\"PATNO\", \"PD_Duration\"]], on=[\"PATNO\"], how=\"left\")\n",
    "print(clinical.shape)\n",
    "print(clinical_orig.shape)\n",
    "#check for how many rows PD_Duration is null\n",
    "print(clinical[\"PD_Duration\"].value_counts(dropna=False))\n",
    "\n",
    "#save clinical\n",
    "clinical.to_csv(\"data/processed/clinical_processed_imputed.csv\", index=False)\n",
    "clinical_orig.to_csv(\"data/processed/clinical_processed.csv\", index=False)\n"
   ]
  }
 ],
 "metadata": {
  "kernelspec": {
   "display_name": "uk",
   "language": "python",
   "name": "python3"
  },
  "language_info": {
   "codemirror_mode": {
    "name": "ipython",
    "version": 3
   },
   "file_extension": ".py",
   "mimetype": "text/x-python",
   "name": "python",
   "nbconvert_exporter": "python",
   "pygments_lexer": "ipython3",
   "version": "3.9.19"
  }
 },
 "nbformat": 4,
 "nbformat_minor": 2
}
