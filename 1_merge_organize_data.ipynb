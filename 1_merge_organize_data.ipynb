{
 "cells": [
  {
   "cell_type": "code",
   "execution_count": 1,
   "metadata": {},
   "outputs": [],
   "source": [
    "import pandas as pd\n",
    "import numpy as np\n"
   ]
  },
  {
   "cell_type": "markdown",
   "metadata": {},
   "source": [
    "PPMI_CLINICAL"
   ]
  },
  {
   "cell_type": "code",
   "execution_count": 2,
   "metadata": {},
   "outputs": [],
   "source": [
    "#data should be downloaded from https://www.ppmi-info.org/ and saved in PPMI_clinical and PPMI_remote folders accordingly\n",
    "#dates on file paths should be adapted accordingly\n",
    "\n",
    "#load all data\n",
    "age = pd.read_csv(\"data/PPMI_clinical/Age_at_visit_24May2024.csv\")\n",
    "demographics = pd.read_csv(\"data/PPMI_clinical/Demographics_10Jun2024.csv\")\n",
    "pat_status = pd.read_csv(\"data/PPMI_clinical/Participant_Status_24May2024.csv\")\n",
    "socio_eco = pd.read_csv(\"data/PPMI_clinical/Socio-Economics_24May2024.csv\")\n",
    "upsit = pd.read_csv(\"data/PPMI_clinical/University_of_Pennsylvania_Smell_Identification_Test_UPSIT_24May2024.csv\")"
   ]
  },
  {
   "cell_type": "code",
   "execution_count": 3,
   "metadata": {},
   "outputs": [
    {
     "name": "stdout",
     "output_type": "stream",
     "text": [
      "{'PATNO'}\n"
     ]
    }
   ],
   "source": [
    "#check for columns that are in all dataframes\n",
    "intersect = set(age.columns)\n",
    "for df in [demographics, pat_status, socio_eco, upsit]:\n",
    "    intersect = intersect.intersection(set(df.columns))\n",
    "print(intersect)\n"
   ]
  },
  {
   "cell_type": "code",
   "execution_count": 4,
   "metadata": {},
   "outputs": [
    {
     "name": "stdout",
     "output_type": "stream",
     "text": [
      "Age\n",
      "Index(['PATNO', 'EVENT_ID', 'AGE_AT_VISIT'], dtype='object')\n",
      "Demographics\n",
      "Index(['REC_ID', 'PATNO', 'EVENT_ID', 'PAG_NAME', 'INFODT', 'AFICBERB',\n",
      "       'ASHKJEW', 'BASQUE', 'BIRTHDT', 'SEX', 'CHLDBEAR', 'HOWLIVE', 'GAYLES',\n",
      "       'HETERO', 'BISEXUAL', 'PANSEXUAL', 'ASEXUAL', 'OTHSEXUALITY', 'HANDED',\n",
      "       'HISPLAT', 'RAASIAN', 'RABLACK', 'RAHAWOPI', 'RAINDALS', 'RANOS',\n",
      "       'RAWHITE', 'RAUNKNOWN', 'ORIG_ENTRY', 'LAST_UPDATE'],\n",
      "      dtype='object')\n",
      "Participant Status\n",
      "Index(['PATNO', 'COHORT', 'COHORT_DEFINITION', 'ENROLL_DATE', 'ENROLL_STATUS',\n",
      "       'STATUS_DATE', 'ENROLL_AGE', 'INEXPAGE', 'AV133STDY', 'TAUSTDY',\n",
      "       'GAITSTDY', 'PISTDY', 'SV2ASTDY', 'PPMI_ONLINE_ENROLL', 'CONCOHORT',\n",
      "       'CONCOHORT_DEFINITION', 'CONLRRK2', 'CONGBA', 'CONSNCA', 'CONPRKN',\n",
      "       'CONPINK1', 'CONHPSM', 'CONRBD', 'PHENOCNV', 'DIAG1', 'DIAG1VIS',\n",
      "       'DIAG2', 'DIAG2VIS', 'DIAG3', 'DIAG3VIS', 'COMMENTS', 'CONDATE',\n",
      "       'ENRLPINK1', 'ENRLPRKN', 'ENRLSRDC', 'ENRLHPSM', 'ENRLRBD', 'ENRLLRRK2',\n",
      "       'ENRLSNCA', 'ENRLGBA'],\n",
      "      dtype='object')\n",
      "Socio-Economics\n",
      "Index(['REC_ID', 'PATNO', 'EVENT_ID', 'PAG_NAME', 'INFODT', 'EDUCYRS',\n",
      "       'ORIG_ENTRY', 'LAST_UPDATE'],\n",
      "      dtype='object')\n",
      "UPSIT\n",
      "Index(['REC_ID', 'PATNO', 'EVENT_ID', 'PAG_NAME', 'INFODT', 'SCENT_01_CORRECT',\n",
      "       'SCENT_01_RESPONSE', 'SCENT_02_CORRECT', 'SCENT_02_RESPONSE',\n",
      "       'SCENT_03_CORRECT', 'SCENT_03_RESPONSE', 'SCENT_04_CORRECT',\n",
      "       'SCENT_04_RESPONSE', 'SCENT_05_CORRECT', 'SCENT_05_RESPONSE',\n",
      "       'SCENT_06_CORRECT', 'SCENT_06_RESPONSE', 'SCENT_07_CORRECT',\n",
      "       'SCENT_07_RESPONSE', 'SCENT_08_CORRECT', 'SCENT_08_RESPONSE',\n",
      "       'SCENT_09_CORRECT', 'SCENT_09_RESPONSE', 'SCENT_10_CORRECT',\n",
      "       'SCENT_10_RESPONSE', 'SCENT_11_CORRECT', 'SCENT_11_RESPONSE',\n",
      "       'SCENT_12_CORRECT', 'SCENT_12_RESPONSE', 'SCENT_13_CORRECT',\n",
      "       'SCENT_13_RESPONSE', 'SCENT_14_CORRECT', 'SCENT_14_RESPONSE',\n",
      "       'SCENT_15_CORRECT', 'SCENT_15_RESPONSE', 'SCENT_16_CORRECT',\n",
      "       'SCENT_16_RESPONSE', 'SCENT_17_CORRECT', 'SCENT_17_RESPONSE',\n",
      "       'SCENT_18_CORRECT', 'SCENT_18_RESPONSE', 'SCENT_19_CORRECT',\n",
      "       'SCENT_19_RESPONSE', 'SCENT_20_CORRECT', 'SCENT_20_RESPONSE',\n",
      "       'SCENT_21_CORRECT', 'SCENT_21_RESPONSE', 'SCENT_22_CORRECT',\n",
      "       'SCENT_22_RESPONSE', 'SCENT_23_CORRECT', 'SCENT_23_RESPONSE',\n",
      "       'SCENT_24_CORRECT', 'SCENT_24_RESPONSE', 'SCENT_25_CORRECT',\n",
      "       'SCENT_25_RESPONSE', 'SCENT_26_CORRECT', 'SCENT_26_RESPONSE',\n",
      "       'SCENT_27_CORRECT', 'SCENT_27_RESPONSE', 'SCENT_28_CORRECT',\n",
      "       'SCENT_28_RESPONSE', 'SCENT_29_CORRECT', 'SCENT_29_RESPONSE',\n",
      "       'SCENT_30_CORRECT', 'SCENT_30_RESPONSE', 'SCENT_31_CORRECT',\n",
      "       'SCENT_31_RESPONSE', 'SCENT_32_CORRECT', 'SCENT_32_RESPONSE',\n",
      "       'SCENT_33_CORRECT', 'SCENT_33_RESPONSE', 'SCENT_34_CORRECT',\n",
      "       'SCENT_34_RESPONSE', 'SCENT_35_CORRECT', 'SCENT_35_RESPONSE',\n",
      "       'SCENT_36_CORRECT', 'SCENT_36_RESPONSE', 'SCENT_37_CORRECT',\n",
      "       'SCENT_37_RESPONSE', 'SCENT_38_CORRECT', 'SCENT_38_RESPONSE',\n",
      "       'SCENT_39_CORRECT', 'SCENT_39_RESPONSE', 'SCENT_40_CORRECT',\n",
      "       'SCENT_40_RESPONSE', 'TOTAL_CORRECT', 'upsitorder', 'UPSITFORM',\n",
      "       'UPSIT_PRCNTGE', 'UPSIT_PRCTVER', 'UPSIT_SOURCE', 'UPSITLANGCNTR',\n",
      "       'ORIG_ENTRY', 'LAST_UPDATE'],\n",
      "      dtype='object')\n"
     ]
    }
   ],
   "source": [
    "#print columns for each dataframe\n",
    "print(\"Age\")\n",
    "print(age.columns)\n",
    "print(\"Demographics\")\n",
    "print(demographics.columns)\n",
    "print(\"Participant Status\")\n",
    "print(pat_status.columns) \n",
    "print(\"Socio-Economics\") \n",
    "print(socio_eco.columns)\n",
    "print(\"UPSIT\")\n",
    "print(upsit.columns)\n",
    "\n"
   ]
  },
  {
   "cell_type": "code",
   "execution_count": 5,
   "metadata": {},
   "outputs": [],
   "source": [
    "# List of dataframes\n",
    "dfs = [age, demographics, socio_eco, upsit]\n",
    "\n",
    "# Merge all dataframes bases on PATNO and EVENT_ID\n",
    "merged_df = dfs[0]\n",
    "for df in dfs[1:]:\n",
    "    merged_df = merged_df.merge(df, on=['PATNO', 'EVENT_ID'], how='outer')\n"
   ]
  },
  {
   "cell_type": "code",
   "execution_count": 6,
   "metadata": {},
   "outputs": [],
   "source": [
    "#merge with participant status (this dataframe has no EVENT_ID)\n",
    "merged_df = merged_df.merge(pat_status, on=['PATNO'], how='outer', suffixes=('', '_y'))\n",
    "\n",
    "merged_df.drop(merged_df.filter(regex='_y$').columns, axis=1, inplace=True)"
   ]
  },
  {
   "cell_type": "code",
   "execution_count": 7,
   "metadata": {},
   "outputs": [],
   "source": [
    "#save merged dataframe\n",
    "merged_df.to_csv(\"data/merged_ppmi_clinical.csv\", index=False)\n"
   ]
  },
  {
   "cell_type": "markdown",
   "metadata": {},
   "source": [
    "PPMI_remote"
   ]
  },
  {
   "cell_type": "code",
   "execution_count": 8,
   "metadata": {},
   "outputs": [],
   "source": [
    "high_int = pd.read_csv(\"data/PPMI_remote/Remote_Screening_High_Interest_24May2024.csv\")\n",
    "pat_prog = pd.read_csv(\"data/PPMI_remote/Remote_Screening_Participant_Progress_24May2024.csv\")\n",
    "screen = pd.read_csv(\"data/PPMI_remote/Remote_Screening_Screener_24May2024.csv\")\n",
    "smell = pd.read_csv(\"data/PPMI_remote/Remote_Screening_Smell_Test_Direct_Screener_24May2024.csv\", low_memory=False)\n",
    "upsit_screen = pd.read_csv(\"data/PPMI_remote/Remote_Screening_UPSIT_Screening_24May2024.csv\")\n",
    "upsit = pd.read_csv(\"data/PPMI_remote/Remote_University_of_Pennsylvania_Smell_Identification_Test_24May2024.csv\")\n"
   ]
  },
  {
   "cell_type": "code",
   "execution_count": 9,
   "metadata": {},
   "outputs": [
    {
     "name": "stdout",
     "output_type": "stream",
     "text": [
      "High Interest\n",
      "Index(['PATNO', 'EVENT_ID', 'PAG_NAME', 'INFODT', 'HIQ1', 'HIQ2', 'HIQ3',\n",
      "       'HIQ4', 'HIQ5', 'HIQ6', 'ORIG_ENTRY', 'LAST_UPDATE'],\n",
      "      dtype='object')\n",
      "Participant Progress\n",
      "Index(['PATNO', 'EVENT_ID', 'PAG_NAME', 'INFODT', 'UPSITSNTDT', 'UPSITENTDT',\n",
      "       'SCRINTDT', 'SCRINTST', 'SCRTRDT', 'SCRSITE', 'SCRVISTYPE',\n",
      "       'SCRSCHEDDT', 'SCRVISST', 'SCRRSNUM', 'BLINTDT', 'BLINTST', 'BLTRDT',\n",
      "       'BLSITE', 'BLSCHEDDT', 'BLVISST', 'BLRSNUM', 'ORIG_ENTRY',\n",
      "       'LAST_UPDATE'],\n",
      "      dtype='object')\n",
      "Screen\n",
      "Index(['PATNO', 'EVENT_ID', 'PAG_NAME', 'INFODT', 'COHORT', 'TRACK',\n",
      "       'CONSENTDT', 'CONSENTST', 'ENROLLST', 'BIRTHSEX', 'RAASIAN', 'RABLACK',\n",
      "       'RADEC', 'RAHAWOPI', 'RAINDALS', 'RAUNK', 'RAWHITE', 'HISPLAT',\n",
      "       'COUNTRY', 'ORIG_ENTRY', 'LAST_UPDATE'],\n",
      "      dtype='object')\n",
      "Smell Test\n",
      "Index(['PATNO', 'EVENT_ID', 'PAG_NAME', 'SCREENINGID', 'SCREENDT', 'SCREENTM',\n",
      "       'TRACK', 'CAMPAIGN', 'REQAGE', 'REQLOC', 'DIAGPD', 'PDMED', 'DIAGAGE2',\n",
      "       'RTRNLTR', 'PARTNERID', 'ORIG_ENTRY', 'LAST_UPDATE'],\n",
      "      dtype='object')\n",
      "UPSIT Screening\n",
      "Index(['PATNO', 'EVENT_ID', 'PAG_NAME', 'INFODT', 'USQ1', 'USQ2', 'USQ3',\n",
      "       'USQ4', 'USQ5', 'USQ6', 'USQ7', 'USQ8', 'USQ8A', 'USQ8B', 'USQ8C',\n",
      "       'USQ9', 'USQ10', 'ORIG_ENTRY', 'LAST_UPDATE'],\n",
      "      dtype='object')\n",
      "UPSIT\n",
      "Index(['REC_ID', 'PATNO', 'EVENT_ID', 'PAG_NAME', 'INFODT', 'SCENT_01_CORRECT',\n",
      "       'SCENT_01_RESPONSE', 'SCENT_02_CORRECT', 'SCENT_02_RESPONSE',\n",
      "       'SCENT_03_CORRECT', 'SCENT_03_RESPONSE', 'SCENT_04_CORRECT',\n",
      "       'SCENT_04_RESPONSE', 'SCENT_05_CORRECT', 'SCENT_05_RESPONSE',\n",
      "       'SCENT_06_CORRECT', 'SCENT_06_RESPONSE', 'SCENT_07_CORRECT',\n",
      "       'SCENT_07_RESPONSE', 'SCENT_08_CORRECT', 'SCENT_08_RESPONSE',\n",
      "       'SCENT_09_CORRECT', 'SCENT_09_RESPONSE', 'SCENT_10_CORRECT',\n",
      "       'SCENT_10_RESPONSE', 'SCENT_11_CORRECT', 'SCENT_11_RESPONSE',\n",
      "       'SCENT_12_CORRECT', 'SCENT_12_RESPONSE', 'SCENT_13_CORRECT',\n",
      "       'SCENT_13_RESPONSE', 'SCENT_14_CORRECT', 'SCENT_14_RESPONSE',\n",
      "       'SCENT_15_CORRECT', 'SCENT_15_RESPONSE', 'SCENT_16_CORRECT',\n",
      "       'SCENT_16_RESPONSE', 'SCENT_17_CORRECT', 'SCENT_17_RESPONSE',\n",
      "       'SCENT_18_CORRECT', 'SCENT_18_RESPONSE', 'SCENT_19_CORRECT',\n",
      "       'SCENT_19_RESPONSE', 'SCENT_20_CORRECT', 'SCENT_20_RESPONSE',\n",
      "       'SCENT_21_CORRECT', 'SCENT_21_RESPONSE', 'SCENT_22_CORRECT',\n",
      "       'SCENT_22_RESPONSE', 'SCENT_23_CORRECT', 'SCENT_23_RESPONSE',\n",
      "       'SCENT_24_CORRECT', 'SCENT_24_RESPONSE', 'SCENT_25_CORRECT',\n",
      "       'SCENT_25_RESPONSE', 'SCENT_26_CORRECT', 'SCENT_26_RESPONSE',\n",
      "       'SCENT_27_CORRECT', 'SCENT_27_RESPONSE', 'SCENT_28_CORRECT',\n",
      "       'SCENT_28_RESPONSE', 'SCENT_29_CORRECT', 'SCENT_29_RESPONSE',\n",
      "       'SCENT_30_CORRECT', 'SCENT_30_RESPONSE', 'SCENT_31_CORRECT',\n",
      "       'SCENT_31_RESPONSE', 'SCENT_32_CORRECT', 'SCENT_32_RESPONSE',\n",
      "       'SCENT_33_CORRECT', 'SCENT_33_RESPONSE', 'SCENT_34_CORRECT',\n",
      "       'SCENT_34_RESPONSE', 'SCENT_35_CORRECT', 'SCENT_35_RESPONSE',\n",
      "       'SCENT_36_CORRECT', 'SCENT_36_RESPONSE', 'SCENT_37_CORRECT',\n",
      "       'SCENT_37_RESPONSE', 'SCENT_38_CORRECT', 'SCENT_38_RESPONSE',\n",
      "       'SCENT_39_CORRECT', 'SCENT_39_RESPONSE', 'SCENT_40_CORRECT',\n",
      "       'SCENT_40_RESPONSE', 'TOTAL_CORRECT', 'upsitorder', 'UPSITFORM',\n",
      "       'UPSIT_PRCNTGE', 'UPSIT_PRCTVER', 'UPSIT_SOURCE', 'UPSITLANGCNTR',\n",
      "       'UPSIT_ORIG_ENTRY', 'LAST_UPDATE'],\n",
      "      dtype='object')\n"
     ]
    }
   ],
   "source": [
    "#rename upsit ORIG_ENTRY to UPSIT_ORIG_ENTRY as this one will be used to get age\n",
    "upsit = upsit.rename(columns={\"ORIG_ENTRY\": \"UPSIT_ORIG_ENTRY\"})\n",
    "\n",
    "#print columns\n",
    "print(\"High Interest\")\n",
    "print(high_int.columns)\n",
    "print(\"Participant Progress\")\n",
    "print(pat_prog.columns)\n",
    "print(\"Screen\")\n",
    "print(screen.columns)\n",
    "print(\"Smell Test\")\n",
    "print(smell.columns)\n",
    "print(\"UPSIT Screening\")\n",
    "print(upsit_screen.columns)\n",
    "print(\"UPSIT\")\n",
    "print(upsit.columns)"
   ]
  },
  {
   "cell_type": "code",
   "execution_count": 10,
   "metadata": {},
   "outputs": [
    {
     "name": "stdout",
     "output_type": "stream",
     "text": [
      "(89102, 157)\n"
     ]
    }
   ],
   "source": [
    "#merge all remote screening data\n",
    "remote_dfs = [high_int, pat_prog, screen, smell, upsit_screen, upsit]\n",
    "remote_merged_df = remote_dfs[0]\n",
    "for df in remote_dfs[1:]:\n",
    "    remote_merged_df = remote_merged_df.merge(df, on=['PATNO', 'EVENT_ID'], how='outer', suffixes=('', '_y'))\n",
    "\n",
    "remote_merged_df.drop(remote_merged_df.filter(regex='_y$').columns, axis=1, inplace=True)\n",
    "\n",
    "print(remote_merged_df.shape)"
   ]
  },
  {
   "cell_type": "code",
   "execution_count": 11,
   "metadata": {},
   "outputs": [],
   "source": [
    "#save df\n",
    "remote_merged_df.to_csv(\"data/merged_ppmi_remote.csv\", index=False)"
   ]
  },
  {
   "cell_type": "code",
   "execution_count": 12,
   "metadata": {},
   "outputs": [],
   "source": [
    "# #save columns in txt\n",
    "# with open(\"merged_ppmi_remote_columns.txt\", \"w\") as f:\n",
    "#     for col in remote_merged_df.columns:\n",
    "#         f.write(col + \"\\n\")\n",
    "        \n",
    "# with open(\"merged_ppmi_clinical_columns.txt\", \"w\") as f:\n",
    "#     for col in merged_df.columns:\n",
    "#         f.write(col + \"\\n\")"
   ]
  },
  {
   "cell_type": "markdown",
   "metadata": {},
   "source": [
    "adding year of birth and age in years"
   ]
  },
  {
   "cell_type": "code",
   "execution_count": 13,
   "metadata": {},
   "outputs": [],
   "source": [
    "import pandas as pd"
   ]
  },
  {
   "cell_type": "code",
   "execution_count": 14,
   "metadata": {},
   "outputs": [
    {
     "name": "stdout",
     "output_type": "stream",
     "text": [
      "[  nan 1956. 1952. 1953. 1959. 1949. 1958. 1946. 1957. 1960. 1955. 1940.\n",
      " 1948. 1954. 1943. 1944. 1951. 1945. 1947. 1941. 1950. 1964. 1097. 1965.\n",
      " 1961. 1942. 1937. 1936. 1921. 1966. 1969. 1059. 1962. 1068. 1939. 1975.\n",
      " 1938. 1982. 1045. 1963. 1929. 1978. 2023. 1933. 1058. 1931. 1934. 1985.\n",
      " 1932. 2021. 1935. 1995. 1930. 1928. 1927. 2012. 1987. 1974. 1967. 1971.\n",
      " 1970. 1973. 1968. 2000. 1989. 1977. 2001. 2022. 1976. 1901. 1992. 1922.\n",
      " 2010. 1996. 1986. 1898. 1979. 1984. 2009. 2020. 2019. 1972. 1988. 2970.\n",
      " 2971. 1053. 1875. 1072. 1913. 1075. 1912. 9186. 2973. 5959. 1065. 1037.\n",
      " 1074. 2013. 2011. 1999. 1926. 1981. 2024. 2050. 2060. 2053. 1925. 1980.\n",
      " 1993. 2002. 2005. 1991. 1983. 2003.]\n"
     ]
    }
   ],
   "source": [
    "remote = pd.read_csv(\"data/merged_ppmi_remote.csv\", low_memory=False)\n",
    "year = pd.read_csv(\"data/PPMI_remote/Remote_Screening_BirthYear.csv\")\n",
    "\n",
    "#get birth year and PATNO only\n",
    "year = year[[\"PATNO\", \"BIRTHDT\"]]\n",
    "\n",
    "#print unique values of birth year\n",
    "print(year[\"BIRTHDT\"].unique())\n"
   ]
  },
  {
   "cell_type": "code",
   "execution_count": 15,
   "metadata": {},
   "outputs": [
    {
     "name": "stdout",
     "output_type": "stream",
     "text": [
      "(89102, 157)\n",
      "(89102, 158)\n"
     ]
    }
   ],
   "source": [
    "#merge with remote data\n",
    "print(remote.shape)\n",
    "remote = remote.merge(year, on=[\"PATNO\"], how=\"inner\")\n",
    "\n",
    "print(remote.shape)\n"
   ]
  },
  {
   "cell_type": "code",
   "execution_count": 16,
   "metadata": {},
   "outputs": [
    {
     "name": "stdout",
     "output_type": "stream",
     "text": [
      "[  nan 2022. 2021. 2020. 2024. 2023.]\n",
      "[ nan  74.  77.  72.  68.  66.  63.  71.  81.  73.  64.  69.  76.  62.\n",
      "  65.  82.  61.  60.  70.  79.  67.  75.  78.  56. 923.  84.  85.  55.\n",
      " 962.  52. 953.  57.  46.  83.  80. 976.  43.  59. 963.  90.  86.  87.\n",
      "  88.  89.  94.  92.  11.  93.  51.  95.  54.  34.  53.  91.   0.  97.\n",
      " 122.   1. 101.  58.  13.  96.  44.  50.  49.  48.  14.  42.  38.  31.\n",
      "  47.  24.  40.  28.  23.  36.  21.]\n"
     ]
    },
    {
     "name": "stderr",
     "output_type": "stream",
     "text": [
      "/tmp/ipykernel_69534/353925014.py:2: UserWarning: Could not infer format, so each element will be parsed individually, falling back to `dateutil`. To ensure parsing is consistent and as-expected, please specify a format.\n",
      "  remote[\"UPSIT_ORIG_ENTRY\"] = pd.to_datetime(remote[\"UPSIT_ORIG_ENTRY\"])\n"
     ]
    }
   ],
   "source": [
    "#get year from UPSIT_ORIG_ENTRY\n",
    "remote[\"UPSIT_ORIG_ENTRY\"] = pd.to_datetime(remote[\"UPSIT_ORIG_ENTRY\"])\n",
    "remote[\"YEAR\"] = remote[\"UPSIT_ORIG_ENTRY\"].dt.year\n",
    "print(remote[\"YEAR\"].unique())\n",
    "\n",
    "#AGE as YEAR - BIRTHDT\n",
    "remote[\"AGE\"] = remote[\"YEAR\"] - remote[\"BIRTHDT\"]\n",
    "print(remote[\"AGE\"].unique())"
   ]
  },
  {
   "cell_type": "code",
   "execution_count": 17,
   "metadata": {},
   "outputs": [
    {
     "name": "stdout",
     "output_type": "stream",
     "text": [
      "(89102, 160)\n"
     ]
    }
   ],
   "source": [
    "#save remote\n",
    "print(remote.shape)\n",
    "remote.to_csv(\"data/merged_ppmi_remote.csv\", index=False)"
   ]
  },
  {
   "cell_type": "markdown",
   "metadata": {},
   "source": [
    "PART 2 - Computing Hyposmia Score"
   ]
  },
  {
   "cell_type": "code",
   "execution_count": 18,
   "metadata": {},
   "outputs": [],
   "source": [
    "import pandas as pd\n",
    "import numpy as np"
   ]
  },
  {
   "cell_type": "code",
   "execution_count": 19,
   "metadata": {},
   "outputs": [
    {
     "name": "stdout",
     "output_type": "stream",
     "text": [
      "(89102, 160)\n",
      "(30943, 162)\n"
     ]
    }
   ],
   "source": [
    "#load both dataframes\n",
    "remote = pd.read_csv(\"data/merged_ppmi_remote.csv\", low_memory=False)\n",
    "clinical = pd.read_csv(\"data/merged_ppmi_clinical.csv\", low_memory=False)\n",
    "\n",
    "#print shapes\n",
    "print(remote.shape)\n",
    "print(clinical.shape)\n",
    "\n"
   ]
  },
  {
   "cell_type": "code",
   "execution_count": 20,
   "metadata": {},
   "outputs": [],
   "source": [
    "def compute_hyposmia_ppmi(df):\n",
    "    #Compute Hyposmia according to PPMI old cutoff values\n",
    "    df['HYPOSMIA_PPMI'] = np.nan\n",
    "    df[\"BIRTHSEX\"] = df[\"BIRTHSEX\"].astype(float)\n",
    "    for index, row in df.iterrows():\n",
    "        if row['BIRTHSEX'] == 1.0:  # 1: Male\n",
    "            if row['TOTAL_CORRECT'] <= 33:\n",
    "                df.at[index, \"HYPOSMIA_PPMI\"] = 1\n",
    "            else:\n",
    "                df.at[index, \"HYPOSMIA_PPMI\"] = 0\n",
    "        elif row['BIRTHSEX'] == 0.0: # 0: Female\n",
    "            if row['TOTAL_CORRECT'] <= 34:\n",
    "                df.at[index, \"HYPOSMIA_PPMI\"] = 1\n",
    "            else:\n",
    "                df.at[index, \"HYPOSMIA_PPMI\"] = 0\n",
    "    return df\n",
    "\n",
    "def compute_hyposmia(df):\n",
    "    #Compute Hyposmia according to AGE and UPSIT total score (from https://doi.org/10.1212/wnl.0000000000207077)\n",
    "    df[\"HYPOSMIA\"] = np.nan\n",
    "\n",
    "    df[\"AGE\"] = df[\"AGE\"].astype(float)\n",
    "    df[\"BIRTHSEX\"] = df[\"BIRTHSEX\"].astype(float)\n",
    "    df[\"TOTAL_CORRECT\"] = df[\"TOTAL_CORRECT\"].astype(float)\n",
    "    for index, row in df.iterrows():\n",
    "        if row[\"AGE\"] < 60.0:\n",
    "            print(f\"Age is less than 60: {row['PATNO']}\")\n",
    "        if row[\"BIRTHSEX\"] == 0.0:\n",
    "            if row[\"AGE\"] >= 60 and row[\"AGE\"] <= 64 and row[\"TOTAL_CORRECT\"] <= 30:\n",
    "                df.at[index, \"HYPOSMIA\"] = 1\n",
    "            elif row[\"AGE\"] >= 65 and row[\"AGE\"] <= 69 and row[\"TOTAL_CORRECT\"] <= 28:\n",
    "                df.at[index, \"HYPOSMIA\"] = 1\n",
    "            elif row[\"AGE\"] >= 70 and row[\"AGE\"] <= 74 and row[\"TOTAL_CORRECT\"] <= 26:\n",
    "                df.at[index, \"HYPOSMIA\"] = 1\n",
    "            elif row[\"AGE\"] >= 75 and row[\"AGE\"] <= 79 and row[\"TOTAL_CORRECT\"] <= 24:\n",
    "                df.at[index, \"HYPOSMIA\"] = 1\n",
    "            elif row[\"AGE\"] >= 80 and row[\"TOTAL_CORRECT\"] <= 22:\n",
    "                df.at[index, \"HYPOSMIA\"] = 1\n",
    "            else:\n",
    "                #no HYPOSMIA\n",
    "                df.at[index, \"HYPOSMIA\"] = 0\n",
    "                    \n",
    "        elif row[\"BIRTHSEX\"] == 1.0:\n",
    "            if row[\"AGE\"] >= 60 and row[\"AGE\"] <= 64 and row[\"TOTAL_CORRECT\"] <= 26:\n",
    "                df.at[index, \"HYPOSMIA\"] = 1\n",
    "            elif row[\"AGE\"] >= 65 and row[\"AGE\"] <= 69 and row[\"TOTAL_CORRECT\"] <= 24:\n",
    "                df.at[index, \"HYPOSMIA\"] = 1\n",
    "            elif row[\"AGE\"] >= 70 and row[\"AGE\"] <= 74 and row[\"TOTAL_CORRECT\"] <= 23:\n",
    "                df.at[index, \"HYPOSMIA\"] = 1\n",
    "            elif row[\"AGE\"] >= 75 and row[\"AGE\"] <= 79 and row[\"TOTAL_CORRECT\"] <= 21:\n",
    "                df.at[index, \"HYPOSMIA\"] = 1\n",
    "            elif row[\"AGE\"] >= 80 and row[\"TOTAL_CORRECT\"] <= 18:\n",
    "                df.at[index, \"HYPOSMIA\"] = 1     \n",
    "            else:\n",
    "                #no HYPOSMIA\n",
    "                df.at[index, \"HYPOSMIA\"] = 0\n",
    "    return df"
   ]
  },
  {
   "cell_type": "code",
   "execution_count": 21,
   "metadata": {},
   "outputs": [
    {
     "name": "stdout",
     "output_type": "stream",
     "text": [
      "SEX\n",
      "1.0    2422\n",
      "0.0    1924\n",
      "Name: count, dtype: int64\n"
     ]
    }
   ],
   "source": [
    "#print unique values for sex\n",
    "print(clinical[\"SEX\"].value_counts())"
   ]
  },
  {
   "cell_type": "code",
   "execution_count": 22,
   "metadata": {},
   "outputs": [
    {
     "name": "stdout",
     "output_type": "stream",
     "text": [
      "set()\n",
      "{'LAST_UPDATE_x', 'ORIG_ENTRY_x', 'PAG_NAME_x', 'INFODT_x', 'REC_ID_x'}\n"
     ]
    }
   ],
   "source": [
    "#find columns with sufixes\n",
    "remote_cols = remote.columns\n",
    "clinical_cols = clinical.columns\n",
    "remote_suf = set()\n",
    "clinical_suf = set()\n",
    "for col in remote_cols:\n",
    "    if col.endswith(\"_x\"):\n",
    "        remote_suf.add(col)\n",
    "for col in clinical_cols:\n",
    "    if col.endswith(\"_x\"):\n",
    "        clinical_suf.add(col)\n",
    "print(remote_suf)\n",
    "print(clinical_suf)\n",
    "#drop columns with suffixes\n",
    "remote.drop(remote.filter(regex='_x$').columns, axis=1, inplace=True)"
   ]
  },
  {
   "cell_type": "markdown",
   "metadata": {},
   "source": [
    "CLINICAL"
   ]
  },
  {
   "cell_type": "code",
   "execution_count": 23,
   "metadata": {},
   "outputs": [
    {
     "name": "stdout",
     "output_type": "stream",
     "text": [
      "4330\n"
     ]
    },
    {
     "name": "stderr",
     "output_type": "stream",
     "text": [
      "100%|██████████| 4330/4330 [00:16<00:00, 267.02it/s]\n"
     ]
    },
    {
     "name": "stdout",
     "output_type": "stream",
     "text": [
      "4267\n",
      "(4267, 162)\n"
     ]
    }
   ],
   "source": [
    "from tqdm import tqdm\n",
    "\n",
    "#for each PATNO, create a new row with EVENT_ID = BLSC\n",
    "#sort values by PATNO and EVENT_ID \n",
    "clinical = clinical.sort_values(by=[\"PATNO\", \"EVENT_ID\"])\n",
    "#get list of unique PATNOs\n",
    "patnos = clinical[\"PATNO\"].unique()\n",
    "print(len(patnos))\n",
    "\n",
    "#for each PATNO, create a new row with EVENT_ID = BLSC\n",
    "new_rows = []\n",
    "for patno in tqdm(patnos):\n",
    "    #get all rows for this patno\n",
    "    patno_rows = clinical[clinical[\"PATNO\"] == patno]\n",
    "    #check if there is a BL row\n",
    "    bl_rows = patno_rows[patno_rows[\"EVENT_ID\"] == \"BL\"]\n",
    "    #check if there is a SC row\n",
    "    sc_rows = patno_rows[patno_rows[\"EVENT_ID\"] == \"SC\"]\n",
    "    #check if there is a TRANS row\n",
    "    trans_rows = patno_rows[patno_rows[\"EVENT_ID\"] == \"TRANS\"]\n",
    "    \n",
    "    #if there is a BL row or a SC row, create a new row with EVENT_ID = BLSC\n",
    "    if bl_rows.shape[0] > 0:\n",
    "        bl_row = bl_rows.iloc[0]\n",
    "        #check if age is null\n",
    "        \n",
    "        if sc_rows.shape[0] > 0:\n",
    "            sc_row = sc_rows.iloc[0]\n",
    "            new_row = bl_row.copy()\n",
    "            new_row[\"EVENT_ID\"] = \"BLSC\"\n",
    "            #for each missing value in bl_row, fill with sc_row\n",
    "            for col in clinical.columns:\n",
    "                if pd.isnull(new_row[col]):\n",
    "                    new_row[col] = sc_row[col]\n",
    "        else:\n",
    "            new_row = bl_row.copy()\n",
    "            new_row[\"EVENT_ID\"] = \"BLSC\"\n",
    "    else:\n",
    "        if sc_rows.shape[0] > 0:\n",
    "            sc_row = sc_rows.iloc[0]\n",
    "            new_row = sc_row.copy()\n",
    "            new_row[\"EVENT_ID\"] = \"BLSC\"\n",
    "        else:\n",
    "            continue\n",
    "    \n",
    "    if len(new_row) > 0:\n",
    "        #check if BIRTHSEX has a value\n",
    "        if pd.isnull(new_row[\"SEX\"]):\n",
    "            #get it from any other row from that patno THAT HAS DATA\n",
    "            if trans_rows.shape[0] > 0:\n",
    "                new_row[\"SEX\"] = trans_rows[\"SEX\"].iloc[0]\n",
    "    new_rows.append(new_row)\n",
    "    \n",
    "print(len(new_rows))\n",
    "\n",
    "#transform it into a df\n",
    "clinical_new = pd.DataFrame(new_rows)\n",
    "print(clinical_new.shape)"
   ]
  },
  {
   "cell_type": "code",
   "execution_count": 24,
   "metadata": {},
   "outputs": [
    {
     "name": "stdout",
     "output_type": "stream",
     "text": [
      "(4267, 162)\n",
      "EVENT_ID\n",
      "BLSC    4267\n",
      "Name: count, dtype: int64\n",
      "cohort and concohort\n",
      "(1843, 162)\n",
      "removed screen failed\n",
      "(1556, 162)\n",
      "AGE\n",
      "(1010, 162)\n",
      "UPSITFORM\n",
      "(371, 162)\n",
      "(371, 162)\n"
     ]
    }
   ],
   "source": [
    "#NEW_CODE\n",
    "clinical = clinical_new\n",
    "#keep only rows where concohort is 1, if missing cohort shold be 1\n",
    "print(clinical.shape)\n",
    "\n",
    "#print unique values of EVENT_ID\n",
    "print(clinical[\"EVENT_ID\"].value_counts())\n",
    "print(\"cohort and concohort\")\n",
    "\n",
    "clinical = clinical.loc[(clinical['CONCOHORT'] == 1) | ((clinical['CONCOHORT'].isna()) & (clinical['COHORT'] == 1))]\n",
    "\n",
    "print(clinical.shape)\n",
    "print(\"removed screen failed\")\n",
    "#remove screen failures\n",
    "clinical = clinical[clinical[\"ENROLL_STATUS\"] != \"Screen failed\"]\n",
    "\n",
    "#filter for AGE_AT_VISIT at least 60\n",
    "print(clinical.shape)\n",
    "print(\"AGE\")\n",
    "clinical = clinical[clinical[\"AGE_AT_VISIT\"] >= 60]\n",
    "print(clinical.shape)\n",
    "print(\"UPSITFORM\")\n",
    "clinical = clinical[clinical[\"UPSITFORM\"] == 2.0]\n",
    "print(clinical.shape)\n",
    "\n",
    "clinical = clinical.rename(columns={\"AGE_AT_VISIT\": \"AGE\", \"SEX\": \"BIRTHSEX\"})\n",
    "\n",
    "#get all columns that end with _CORRECT in clinical\n",
    "clinical_cols = [col for col in clinical.columns if col.endswith(\"_CORRECT\")]\n",
    "#drop TOTAL_CORRECT columns\n",
    "clinical_cols.remove(\"TOTAL_CORRECT\")\n",
    "\n",
    "#drop patients with missing data at clinical_cols\n",
    "print(clinical.shape)\n",
    "\n",
    "missing_dict= {}\n",
    "#check how much missing data we have for each patients\n",
    "for patno in clinical[\"PATNO\"].unique():\n",
    "    patno_rows = clinical[clinical[\"PATNO\"] == patno]\n",
    "    missing = patno_rows[clinical_cols].isnull().sum().sum()\n",
    "    missing_dict[patno] = missing\n",
    "        \n",
    "#print how many patients we have with each number of missing values\n",
    "from collections import Counter\n",
    "missing_counter = Counter(missing_dict.values())\n",
    "\n"
   ]
  },
  {
   "cell_type": "code",
   "execution_count": 25,
   "metadata": {},
   "outputs": [],
   "source": [
    "clinical_orig = clinical.copy()"
   ]
  },
  {
   "cell_type": "code",
   "execution_count": 26,
   "metadata": {},
   "outputs": [
    {
     "name": "stdout",
     "output_type": "stream",
     "text": [
      "(371, 162)\n",
      "missing values\n",
      "(364, 162)\n"
     ]
    }
   ],
   "source": [
    "#keep only patients that have less than 3 missing values (5%)\n",
    "print(clinical.shape)\n",
    "print(\"missing values\")\n",
    "clinical = clinical[clinical[\"PATNO\"].map(missing_dict) < 3]\n",
    "print(clinical.shape)\n"
   ]
  },
  {
   "cell_type": "code",
   "execution_count": 27,
   "metadata": {},
   "outputs": [
    {
     "name": "stdout",
     "output_type": "stream",
     "text": [
      "(364, 162)\n",
      "imput missing values\n"
     ]
    }
   ],
   "source": [
    "#imput data for missing values with KNN\n",
    "print(clinical.shape)\n",
    "print(\"imput missing values\")\n",
    "from sklearn.impute import KNNImputer\n",
    "imputer = KNNImputer(n_neighbors=4)\n",
    "clinical[clinical_cols] = imputer.fit_transform(clinical[clinical_cols])"
   ]
  },
  {
   "cell_type": "code",
   "execution_count": 28,
   "metadata": {},
   "outputs": [
    {
     "name": "stdout",
     "output_type": "stream",
     "text": [
      "(364, 162)\n",
      "(364, 164)\n",
      "HYPOSMIA\n",
      "1.0    194\n",
      "0.0    170\n",
      "Name: count, dtype: int64\n",
      "HYPOSMIA_PPMI\n",
      "1.0    328\n",
      "0.0     36\n",
      "Name: count, dtype: int64\n",
      "(246, 164)\n"
     ]
    }
   ],
   "source": [
    "\n",
    "#overwrite column that is the sum of all columns in clinical\n",
    "clinical[\"TOTAL_CORRECT\"] = clinical[clinical_cols].sum(axis=1)\n",
    "\n",
    "#if it has missing data in any of clinical_cols, drop row\n",
    "\n",
    "#print(\"removing missing data from any column of UPSIT\")\n",
    "clinical = clinical.dropna(subset=clinical_cols, how='any')\n",
    "\n",
    "print(clinical.shape)\n",
    "clinical=compute_hyposmia(clinical)\n",
    "clinical=compute_hyposmia_ppmi(clinical)\n",
    "print(clinical.shape)\n",
    "\n",
    "print(clinical[\"HYPOSMIA\"].value_counts(dropna=False))\n",
    "print(clinical[\"HYPOSMIA_PPMI\"].value_counts(dropna=False))\n",
    "\n",
    "#repeat for clinical_orig\n",
    "\n",
    "clinical_orig[\"TOTAL_CORRECT\"] = clinical_orig[clinical_cols].sum(axis=1)\n",
    "clinical_orig = clinical_orig.dropna(subset=clinical_cols, how='any')\n",
    "clinical_orig=compute_hyposmia(clinical_orig)\n",
    "clinical_orig=compute_hyposmia_ppmi(clinical_orig)\n",
    "print(clinical_orig.shape)\n",
    " \n"
   ]
  },
  {
   "cell_type": "code",
   "execution_count": 29,
   "metadata": {},
   "outputs": [
    {
     "name": "stdout",
     "output_type": "stream",
     "text": [
      "HYPOSMIA\n",
      "1.0    194\n",
      "0.0    170\n",
      "Name: count, dtype: int64\n",
      "HYPOSMIA_PPMI\n",
      "1.0    328\n",
      "0.0     36\n",
      "Name: count, dtype: int64\n",
      "BIRTHSEX\n",
      "1.0    231\n",
      "0.0    133\n",
      "Name: count, dtype: int64\n"
     ]
    }
   ],
   "source": [
    "#check counts of HYPOSMIA\n",
    "print(clinical[\"HYPOSMIA\"].value_counts(dropna=False))\n",
    "print(clinical[\"HYPOSMIA_PPMI\"].value_counts(dropna=False))\n",
    "#check counts of TOTAL_CORRECT\n",
    "#print(clinical[\"TOTAL_CORRECT\"].value_counts(dropna=False))\n",
    "#check counts of AGE\n",
    "#age_count =clinical[\"AGE\"].value_counts(dropna=False)\n",
    "#check counts of BIRTHSEX\n",
    "print(clinical[\"BIRTHSEX\"].value_counts(dropna=False))\n"
   ]
  },
  {
   "cell_type": "code",
   "execution_count": 30,
   "metadata": {},
   "outputs": [],
   "source": [
    "#if it dos not exist, create processed folder\n",
    "import os\n",
    "if not os.path.exists(\"data/processed\"):\n",
    "    os.makedirs(\"data/processed\")\n",
    "\n",
    "#save new_df\n",
    "clinical.to_csv(\"data/processed/clinical_processed_imputed.csv\", index=False)\n",
    "clinical_orig.to_csv(\"data/processed/clinical_processed.csv\", index=False)"
   ]
  },
  {
   "cell_type": "markdown",
   "metadata": {},
   "source": [
    "REMOTE"
   ]
  },
  {
   "cell_type": "code",
   "execution_count": 31,
   "metadata": {},
   "outputs": [],
   "source": [
    "remotecopy=remote.copy()"
   ]
  },
  {
   "cell_type": "code",
   "execution_count": 32,
   "metadata": {},
   "outputs": [
    {
     "name": "stdout",
     "output_type": "stream",
     "text": [
      "['SCENT_01_CORRECT', 'SCENT_02_CORRECT', 'SCENT_03_CORRECT', 'SCENT_04_CORRECT', 'SCENT_05_CORRECT', 'SCENT_06_CORRECT', 'SCENT_07_CORRECT', 'SCENT_08_CORRECT', 'SCENT_09_CORRECT', 'SCENT_10_CORRECT', 'SCENT_11_CORRECT', 'SCENT_12_CORRECT', 'SCENT_13_CORRECT', 'SCENT_14_CORRECT', 'SCENT_15_CORRECT', 'SCENT_16_CORRECT', 'SCENT_17_CORRECT', 'SCENT_18_CORRECT', 'SCENT_19_CORRECT', 'SCENT_20_CORRECT', 'SCENT_21_CORRECT', 'SCENT_22_CORRECT', 'SCENT_23_CORRECT', 'SCENT_24_CORRECT', 'SCENT_25_CORRECT', 'SCENT_26_CORRECT', 'SCENT_27_CORRECT', 'SCENT_28_CORRECT', 'SCENT_29_CORRECT', 'SCENT_30_CORRECT', 'SCENT_31_CORRECT', 'SCENT_32_CORRECT', 'SCENT_33_CORRECT', 'SCENT_34_CORRECT', 'SCENT_35_CORRECT', 'SCENT_36_CORRECT', 'SCENT_37_CORRECT', 'SCENT_38_CORRECT', 'SCENT_39_CORRECT', 'SCENT_40_CORRECT']\n",
      "40\n",
      "(89102, 160)\n",
      "AGE\n",
      "(40966, 160)\n",
      "HIQ1\n",
      "(32254, 160)\n",
      "HIQ2\n",
      "(27016, 160)\n",
      "HIQ4\n",
      "(21277, 160)\n",
      "removing missing data from any column of UPSIT\n",
      "(21236, 160)\n"
     ]
    }
   ],
   "source": [
    "\n",
    "remote = remotecopy#for remote: HIQ1 =0; HIQ2 =0; HIQ4 =0 (or 1 if not enough); checar hyposmia\n",
    "remote_cols = [col for col in remote.columns if col.endswith(\"_CORRECT\")]\n",
    "remote_cols.remove(\"TOTAL_CORRECT\")\n",
    "print(remote_cols)\n",
    "print(len(remote_cols))\n",
    " \n",
    "remote[\"TOTAL_CORRECT\"] = remote[remote_cols].sum(axis=1)\n",
    "print(remote.shape)\n",
    "print(\"AGE\")\n",
    "remote = remote[remote[\"AGE\"] >= 60]\n",
    "\n",
    "print(remote.shape)\n",
    "print(\"HIQ1\")\n",
    "remote = remote[remote[\"HIQ1\"] == 0]\n",
    "print(remote.shape)\n",
    "print(\"HIQ2\")\n",
    "remote = remote[remote[\"HIQ2\"] == 0]\n",
    "print(remote.shape)\n",
    "print(\"HIQ4\")\n",
    "remote = remote[remote[\"HIQ4\"] == 0]\n",
    "#filter for age at least 60\n",
    "\n",
    "\n",
    "\n",
    "print(remote.shape)\n",
    "print(\"removing missing data from any column of UPSIT\")\n",
    "remote = remote.dropna(subset=remote_cols, how='any')\n",
    "print(remote.shape)"
   ]
  },
  {
   "cell_type": "code",
   "execution_count": 33,
   "metadata": {},
   "outputs": [
    {
     "name": "stdout",
     "output_type": "stream",
     "text": [
      "(21236, 162)\n"
     ]
    }
   ],
   "source": [
    "remote = compute_hyposmia(remote)\n",
    "remote = compute_hyposmia_ppmi(remote)\n",
    "print(remote.shape)"
   ]
  },
  {
   "cell_type": "code",
   "execution_count": 34,
   "metadata": {},
   "outputs": [
    {
     "name": "stdout",
     "output_type": "stream",
     "text": [
      "HYPOSMIA\n",
      "0.0    19732\n",
      "1.0     1504\n",
      "Name: count, dtype: int64\n",
      "HYPOSMIA_PPMI\n",
      "0.0    15042\n",
      "1.0     6194\n",
      "Name: count, dtype: int64\n"
     ]
    }
   ],
   "source": [
    "print(remote[\"HYPOSMIA\"].value_counts(dropna=False))\n",
    "print(remote[\"HYPOSMIA_PPMI\"].value_counts(dropna=False))"
   ]
  },
  {
   "cell_type": "code",
   "execution_count": 35,
   "metadata": {},
   "outputs": [],
   "source": [
    "\n",
    "\n",
    "#save remote\n",
    "remote.to_csv(\"data/processed/remote_processed.csv\", index=False)"
   ]
  },
  {
   "cell_type": "markdown",
   "metadata": {},
   "source": [
    "HYPOSMIA"
   ]
  },
  {
   "cell_type": "code",
   "execution_count": 36,
   "metadata": {},
   "outputs": [],
   "source": [
    "# for Female participants, hyposmia definition according to AGE and UPSIT total score\n",
    "Fem_Hyposmia_cutoff ={\n",
    "    50-54: 32,\n",
    "    55-59: 32,\n",
    "    60-64: 30,\n",
    "    65-69: 28,\n",
    "    70-74: 26,\n",
    "    75-79: 24,\n",
    "    80: 22\n",
    "}\n",
    "\n",
    "Mal_Hyposmia_cutoff ={\n",
    "    50-54: 30,\n",
    "    55-59: 28,\n",
    "    60-64: 26,\n",
    "    65-69: 24,\n",
    "    70-74: 23,\n",
    "    75-79: 21,\n",
    "    80: 18\n",
    "}"
   ]
  },
  {
   "cell_type": "markdown",
   "metadata": {},
   "source": [
    "GETTING DURATION OF DISEASE AT TIME OF UPSIT"
   ]
  },
  {
   "cell_type": "code",
   "execution_count": 37,
   "metadata": {},
   "outputs": [],
   "source": [
    "import pandas as pd"
   ]
  },
  {
   "cell_type": "code",
   "execution_count": 38,
   "metadata": {},
   "outputs": [],
   "source": [
    "#read upsit\n",
    "upsit = pd.read_csv(\"data/PPMI_clinical/University_of_Pennsylvania_Smell_Identification_Test_UPSIT_24May2024.csv\")\n",
    "diag_hist = pd.read_csv('data/PPMI_clinical/PD_Diagnosis_History_11Jun2024.csv')"
   ]
  },
  {
   "cell_type": "code",
   "execution_count": 39,
   "metadata": {},
   "outputs": [
    {
     "name": "stdout",
     "output_type": "stream",
     "text": [
      "0      2022-01-01\n",
      "1      2021-08-01\n",
      "2      2023-10-01\n",
      "3      2021-04-01\n",
      "4      2021-12-01\n",
      "          ...    \n",
      "2284   2024-05-01\n",
      "2285   2024-03-01\n",
      "2286   2024-04-01\n",
      "2287   2024-05-01\n",
      "2288   2024-04-01\n",
      "Name: ORIG_ENTRY, Length: 2289, dtype: datetime64[ns]\n",
      "0      2010-04-01\n",
      "1      2010-02-01\n",
      "2      2009-03-01\n",
      "3             NaT\n",
      "4      2010-11-01\n",
      "          ...    \n",
      "1886   2024-02-01\n",
      "1887   2024-02-01\n",
      "1888   2022-01-01\n",
      "1889   2022-10-01\n",
      "1890   2024-05-01\n",
      "Name: PDDXDT, Length: 1891, dtype: datetime64[ns]\n",
      "(651, 108)\n",
      "Index(['REC_ID', 'PATNO', 'EVENT_ID', 'PAG_NAME', 'INFODT', 'SCENT_01_CORRECT',\n",
      "       'SCENT_01_RESPONSE', 'SCENT_02_CORRECT', 'SCENT_02_RESPONSE',\n",
      "       'SCENT_03_CORRECT',\n",
      "       ...\n",
      "       'SXDT', 'PDDXDT', 'DXTREMOR', 'DXRIGID', 'DXBRADY', 'DXPOSINS',\n",
      "       'DXOTHSX', 'DOMSIDE', 'ORIG_ENTRY_y', 'LAST_UPDATE_y'],\n",
      "      dtype='object', length=108)\n",
      "0     2019-09-01\n",
      "1     2019-07-01\n",
      "2     2020-02-01\n",
      "3     2020-10-01\n",
      "4     2020-07-01\n",
      "         ...    \n",
      "646   2023-10-01\n",
      "647   2024-01-01\n",
      "648   2023-10-01\n",
      "649   2024-02-01\n",
      "650   2022-01-01\n",
      "Name: PDDXDT, Length: 651, dtype: datetime64[ns]\n",
      "0     2020-10-01\n",
      "1     2021-02-01\n",
      "2     2021-01-01\n",
      "3     2021-03-01\n",
      "4     2021-01-01\n",
      "         ...    \n",
      "646   2024-03-01\n",
      "647   2024-05-01\n",
      "648   2024-03-01\n",
      "649   2024-05-01\n",
      "650   2024-04-01\n",
      "Name: ORIG_ENTRY, Length: 651, dtype: datetime64[ns]\n",
      "0      1.084932\n",
      "1      1.591781\n",
      "2      0.917808\n",
      "3      0.413699\n",
      "4      0.504110\n",
      "         ...   \n",
      "646    0.416438\n",
      "647    0.331507\n",
      "648    0.416438\n",
      "649    0.246575\n",
      "650    2.249315\n",
      "Name: PD_Duration, Length: 651, dtype: float64\n"
     ]
    },
    {
     "name": "stderr",
     "output_type": "stream",
     "text": [
      "/tmp/ipykernel_69534/2732443021.py:2: UserWarning: Could not infer format, so each element will be parsed individually, falling back to `dateutil`. To ensure parsing is consistent and as-expected, please specify a format.\n",
      "  upsit[\"ORIG_ENTRY\"] = pd.to_datetime(upsit[\"ORIG_ENTRY\"])\n"
     ]
    }
   ],
   "source": [
    "#get date for each of them. upsit Orig_entry is the date of the test\n",
    "upsit[\"ORIG_ENTRY\"] = pd.to_datetime(upsit[\"ORIG_ENTRY\"])\n",
    "print(upsit[\"ORIG_ENTRY\"])\n",
    "#diag_hist has the PDDXDT in the following format: mon-yy\n",
    "diag_hist[\"PDDXDT\"] = pd.to_datetime(diag_hist[\"PDDXDT\"], format=\"%b-%y\")\n",
    "print(diag_hist[\"PDDXDT\"])\n",
    "#merge both dataframes\n",
    "merged = upsit.merge(diag_hist, on=[\"PATNO\"], how=\"inner\", suffixes=('', '_y'))\n",
    "print(merged.shape)\n",
    "print(merged.columns)\n",
    "print(merged[\"PDDXDT\"])\n",
    "print(merged[\"ORIG_ENTRY\"])\n",
    "#now compute disease duration at date of the test\n",
    "merged[\"PD_Duration\"] = (merged[\"ORIG_ENTRY\"] - merged[\"PDDXDT\"]).dt.days\n",
    "print(merged[\"PD_Duration\"]/365)"
   ]
  },
  {
   "cell_type": "code",
   "execution_count": 40,
   "metadata": {},
   "outputs": [
    {
     "name": "stdout",
     "output_type": "stream",
     "text": [
      "(364, 164)\n",
      "(366, 165)\n",
      "(248, 165)\n",
      "PD_Duration\n",
      " 365.0    17\n",
      " 153.0    15\n",
      " 273.0    14\n",
      " 212.0    12\n",
      " 184.0    12\n",
      "          ..\n",
      " 0.0       1\n",
      "-91.0      1\n",
      " 425.0     1\n",
      " 397.0     1\n",
      " 821.0     1\n",
      "Name: count, Length: 93, dtype: int64\n"
     ]
    }
   ],
   "source": [
    "#load clinical\n",
    "clinical = pd.read_csv(\"data/processed/clinical_processed_imputed.csv\")\n",
    "clinical_orig = pd.read_csv(\"data/processed/clinical_processed.csv\")\n",
    "print(clinical.shape)\n",
    "\n",
    "#now include PD_Duration in clinical\n",
    "clinical = clinical.merge(merged[[\"PATNO\", \"PD_Duration\"]], on=[\"PATNO\"], how=\"left\")\n",
    "clinical_orig = clinical_orig.merge(merged[[\"PATNO\", \"PD_Duration\"]], on=[\"PATNO\"], how=\"left\")\n",
    "print(clinical.shape)\n",
    "print(clinical_orig.shape)\n",
    "#check for how many rows PD_Duration is null\n",
    "print(clinical[\"PD_Duration\"].value_counts(dropna=False))\n",
    "\n",
    "#save clinical\n",
    "clinical.to_csv(\"data/processed/clinical_processed_imputed.csv\", index=False)\n",
    "clinical_orig.to_csv(\"data/processed/clinical_processed.csv\", index=False)\n"
   ]
  }
 ],
 "metadata": {
  "kernelspec": {
   "display_name": "uk",
   "language": "python",
   "name": "python3"
  },
  "language_info": {
   "codemirror_mode": {
    "name": "ipython",
    "version": 3
   },
   "file_extension": ".py",
   "mimetype": "text/x-python",
   "name": "python",
   "nbconvert_exporter": "python",
   "pygments_lexer": "ipython3",
   "version": "3.9.19"
  }
 },
 "nbformat": 4,
 "nbformat_minor": 2
}
